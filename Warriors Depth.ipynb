{
 "cells": [
  {
   "cell_type": "code",
   "execution_count": 1,
   "metadata": {},
   "outputs": [],
   "source": [
    "import pandas as pd\n",
    "import numpy as np\n",
    "\n",
    "pd.options.mode.chained_assignment = None\n",
    "# pd.set_option('display.max_rows', None)\n",
    "pd.set_option('display.max_columns', None)\n",
    "pd.set_option('display.max_colwidth', None)"
   ]
  },
  {
   "cell_type": "code",
   "execution_count": 2,
   "metadata": {},
   "outputs": [],
   "source": [
    "traditional = pd.read_csv(\"warriors_playoffs_traditional.csv\")\n",
    "advanced = pd.read_csv(\"warriors_playoffs_advanced.csv\")\n",
    "misc = pd.read_csv(\"warriors_playoffs_misc.csv\")\n",
    "opponent = pd.read_csv(\"warriors_playoffs_opponent.csv\")"
   ]
  },
  {
   "cell_type": "code",
   "execution_count": 3,
   "metadata": {},
   "outputs": [],
   "source": [
    "lineups = traditional.merge(advanced, on=['LINEUPS', 'TEAM', 'GP', 'MIN'], how='inner')\n",
    "lineups = lineups.merge(misc, on=['LINEUPS', 'TEAM', 'GP', 'MIN'], how='inner')\n",
    "lineups = lineups.merge(opponent, on=['LINEUPS', 'TEAM', 'GP', 'MIN'], how='inner')\n",
    "\n",
    "lineups.columns = [c.replace(\"\\n\", \" \").replace(\"\\xa0\", \" \") for c in lineups.columns]\n",
    "\n",
    "lineups = pd.concat([lineups[['LINEUPS']], \n",
    "                     lineups.select_dtypes(include='integer')], axis=1) # only int columns\n",
    "\n",
    "lineups['REB DIFF'] = lineups.REB - lineups['OPP REB']"
   ]
  },
  {
   "cell_type": "code",
   "execution_count": 4,
   "metadata": {
    "scrolled": false
   },
   "outputs": [
    {
     "name": "stdout",
     "output_type": "stream",
     "text": [
      "Steals Per-48 with GP2: 12.0\n",
      "Steals Per-48 without GP2: 6.7\n",
      "Opponent Points Per-48 with GP2: 98.4\n",
      "Opponent Points Per-48 without GP2: 108.7\n",
      "Points off TO Per-48 with GP2: 23.8\n",
      "Points off TO Per-48 without GP2: 14.7\n"
     ]
    }
   ],
   "source": [
    "payton = lineups[lineups.LINEUPS.str.contains(\"Payton\")]\n",
    "no_payton = lineups[~lineups.LINEUPS.str.contains(\"Payton\")]\n",
    "\n",
    "print(\"Steals Per-48 with GP2:\", \n",
    "      round(48 * (payton.STL.sum() / payton.MIN.sum()), 1))\n",
    "print(\"Steals Per-48 without GP2:\", \n",
    "      round(48 * (no_payton.STL.sum() / no_payton.MIN.sum()), 1))\n",
    "\n",
    "print(\"Opponent Points Per-48 with GP2:\", \n",
    "      round(48 * (payton['OPP PTS'].sum() / payton.MIN.sum()), 1))\n",
    "print(\"Opponent Points Per-48 without GP2:\", \n",
    "      round(48 * (no_payton['OPP PTS'].sum() / no_payton.MIN.sum()), 1))\n",
    "\n",
    "print(\"Points off TO Per-48 with GP2:\", \n",
    "      round(48 * (payton['PTS OFF TO'].sum() / payton.MIN.sum()), 1))\n",
    "print(\"Points off TO Per-48 without GP2:\", \n",
    "      round(48 * (no_payton['PTS OFF TO'].sum() / no_payton.MIN.sum()), 1))"
   ]
  },
  {
   "cell_type": "code",
   "execution_count": 5,
   "metadata": {},
   "outputs": [
    {
     "name": "stdout",
     "output_type": "stream",
     "text": [
      "Opponent Points Per-48 with Looney: 104.8\n",
      "Opponent Points Per-48 without Looney: 108.1\n",
      "Rebounds Per-48 with Looney: 48.4\n",
      "Rebounds Per-48 without Looney: 40.5\n",
      "Offensive Rebounds Per-48 with Looney: 13.1\n",
      "Offensive Rebounds Per-48 without Looney: 7.4\n",
      "Defensive Rebounds Per-48 with Looney: 35.4\n",
      "Defensive Rebounds Per-48 without Looney: 33.1\n",
      "Second-Chance Points Per-48 with Looney: 16.3\n",
      "Second-Chance Points Per-48 without Looney: 13.4\n",
      "Opponent Second-Chance Points Per-48 with Looney: 11.9\n",
      "Opponent Second-Chance Points Per-48 without Looney: 13.9\n",
      "Opponent Points in the Paint Per-48 with Looney: 41.6\n",
      "Opponent Points in the Paint Per-48 without Looney: 39.7\n",
      "Rebound Differential Per-48 with Looney: 7.8\n",
      "Rebound Differential Per-48 without Looney: -1.9\n",
      "+/- with Looney: 62\n",
      "+/- without Looney: 49\n"
     ]
    }
   ],
   "source": [
    "looney = lineups[lineups.LINEUPS.str.contains(\"Looney\")]\n",
    "no_looney = lineups[~lineups.LINEUPS.str.contains(\"Looney\")]\n",
    "\n",
    "print(\"Opponent Points Per-48 with Looney:\", \n",
    "      round(48 * (looney['OPP PTS'].sum() / looney.MIN.sum()), 1))\n",
    "print(\"Opponent Points Per-48 without Looney:\", \n",
    "      round(48 * (no_looney['OPP PTS'].sum() / no_looney.MIN.sum()), 1))\n",
    "\n",
    "print(\"Rebounds Per-48 with Looney:\", \n",
    "      round(48 * (looney.REB.sum() / looney.MIN.sum()), 1))\n",
    "print(\"Rebounds Per-48 without Looney:\", \n",
    "      round(48 * (no_looney.REB.sum() / no_looney.MIN.sum()), 1))\n",
    "\n",
    "print(\"Offensive Rebounds Per-48 with Looney:\", \n",
    "      round(48 * (looney.OREB.sum() / looney.MIN.sum()), 1))\n",
    "print(\"Offensive Rebounds Per-48 without Looney:\", \n",
    "      round(48 * (no_looney.OREB.sum() / no_looney.MIN.sum()), 1))\n",
    "\n",
    "print(\"Defensive Rebounds Per-48 with Looney:\", \n",
    "      round(48 * (looney.DREB.sum() / looney.MIN.sum()), 1))\n",
    "print(\"Defensive Rebounds Per-48 without Looney:\", \n",
    "      round(48 * (no_looney.DREB.sum() / no_looney.MIN.sum()), 1))\n",
    "\n",
    "print(\"Second-Chance Points Per-48 with Looney:\", \n",
    "      round(48 * (looney['2ND PTS'].sum() / looney.MIN.sum()), 1))\n",
    "print(\"Second-Chance Points Per-48 without Looney:\", \n",
    "      round(48 * (no_looney['2ND PTS'].sum() / no_looney.MIN.sum()), 1))\n",
    "\n",
    "print(\"Opponent Second-Chance Points Per-48 with Looney:\", \n",
    "      round(48 * (looney['OPP 2ND PTS'].sum() / looney.MIN.sum()), 1))\n",
    "print(\"Opponent Second-Chance Points Per-48 without Looney:\", \n",
    "      round(48 * (no_looney['OPP 2ND PTS'].sum() / no_looney.MIN.sum()), 1))\n",
    "\n",
    "print(\"Opponent Points in the Paint Per-48 with Looney:\", \n",
    "      round(48 * (looney['OPP PITP'].sum() / looney.MIN.sum()), 1))\n",
    "print(\"Opponent Points in the Paint Per-48 without Looney:\", \n",
    "      round(48 * (no_looney['OPP PITP'].sum() / no_looney.MIN.sum()), 1))\n",
    "\n",
    "print(\"Rebound Differential Per-48 with Looney:\", \n",
    "      round(48 * (looney['REB DIFF'].sum() / looney.MIN.sum()), 1))\n",
    "print(\"Rebound Differential Per-48 without Looney:\", \n",
    "      round(48 * (no_looney['REB DIFF'].sum() / no_looney.MIN.sum()), 1))\n",
    "\n",
    "print(\"+/- with Looney:\", looney['+/-_x'].sum())\n",
    "print(\"+/- without Looney:\", no_looney['+/-_x'].sum())"
   ]
  }
 ],
 "metadata": {
  "kernelspec": {
   "display_name": "Python 3",
   "language": "python",
   "name": "python3"
  },
  "language_info": {
   "codemirror_mode": {
    "name": "ipython",
    "version": 3
   },
   "file_extension": ".py",
   "mimetype": "text/x-python",
   "name": "python",
   "nbconvert_exporter": "python",
   "pygments_lexer": "ipython3",
   "version": "3.7.7"
  }
 },
 "nbformat": 4,
 "nbformat_minor": 4
}
