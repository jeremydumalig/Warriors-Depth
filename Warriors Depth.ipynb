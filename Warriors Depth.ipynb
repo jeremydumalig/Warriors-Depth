{
 "cells": [
  {
   "cell_type": "code",
   "execution_count": 1,
   "metadata": {},
   "outputs": [],
   "source": [
    "import pandas as pd\n",
    "import numpy as np\n",
    "\n",
    "pd.options.mode.chained_assignment = None\n",
    "# pd.set_option('display.max_rows', None)\n",
    "pd.set_option('display.max_columns', None)\n",
    "pd.set_option('display.max_colwidth', None)"
   ]
  },
  {
   "cell_type": "code",
   "execution_count": 2,
   "metadata": {},
   "outputs": [],
   "source": [
    "traditional = pd.read_csv(\"lineup_data/warriors_playoffs_traditional.csv\")\n",
    "advanced = pd.read_csv(\"lineup_data/warriors_playoffs_advanced.csv\")\n",
    "misc = pd.read_csv(\"lineup_data/warriors_playoffs_misc.csv\")\n",
    "opponent = pd.read_csv(\"lineup_data/warriors_playoffs_opponent.csv\")"
   ]
  },
  {
   "cell_type": "code",
   "execution_count": 3,
   "metadata": {},
   "outputs": [],
   "source": [
    "lineups = traditional.merge(advanced, on=['LINEUPS', 'TEAM', 'GP', 'MIN'], how='inner')\n",
    "lineups = lineups.merge(misc, on=['LINEUPS', 'TEAM', 'GP', 'MIN'], how='inner')\n",
    "lineups = lineups.merge(opponent, on=['LINEUPS', 'TEAM', 'GP', 'MIN'], how='inner')\n",
    "\n",
    "lineups.columns = [c.replace(\"\\n\", \" \").replace(\"\\xa0\", \" \") for c in lineups.columns]\n",
    "\n",
    "lineups = pd.concat([lineups[['LINEUPS']], \n",
    "                     lineups.select_dtypes(include='integer')], axis=1) # only int columns\n",
    "\n",
    "lineups['REB DIFF'] = lineups.REB - lineups['OPP REB']"
   ]
  },
  {
   "cell_type": "code",
   "execution_count": 8,
   "metadata": {},
   "outputs": [
    {
     "data": {
      "text/html": [
       "<div>\n",
       "<style scoped>\n",
       "    .dataframe tbody tr th:only-of-type {\n",
       "        vertical-align: middle;\n",
       "    }\n",
       "\n",
       "    .dataframe tbody tr th {\n",
       "        vertical-align: top;\n",
       "    }\n",
       "\n",
       "    .dataframe thead th {\n",
       "        text-align: right;\n",
       "    }\n",
       "</style>\n",
       "<table border=\"1\" class=\"dataframe\">\n",
       "  <thead>\n",
       "    <tr style=\"text-align: right;\">\n",
       "      <th></th>\n",
       "      <th>PTS</th>\n",
       "      <th>STL</th>\n",
       "      <th>+/-_x</th>\n",
       "      <th>PTS OFF TO</th>\n",
       "      <th>OPP PTS</th>\n",
       "      <th>OPP FG%</th>\n",
       "      <th>OPP FBPS</th>\n",
       "      <th>OPP PITP</th>\n",
       "    </tr>\n",
       "  </thead>\n",
       "  <tbody>\n",
       "    <tr>\n",
       "      <th>Payton ON</th>\n",
       "      <td>109.9</td>\n",
       "      <td>12.0</td>\n",
       "      <td>11.5</td>\n",
       "      <td>23.8</td>\n",
       "      <td>98.4</td>\n",
       "      <td>0.4</td>\n",
       "      <td>8.0</td>\n",
       "      <td>35.8</td>\n",
       "    </tr>\n",
       "    <tr>\n",
       "      <th>Payton OFF</th>\n",
       "      <td>112.2</td>\n",
       "      <td>6.7</td>\n",
       "      <td>3.5</td>\n",
       "      <td>14.7</td>\n",
       "      <td>108.7</td>\n",
       "      <td>0.4</td>\n",
       "      <td>12.5</td>\n",
       "      <td>41.6</td>\n",
       "    </tr>\n",
       "  </tbody>\n",
       "</table>\n",
       "</div>"
      ],
      "text/plain": [
       "              PTS   STL  +/-_x  PTS OFF TO  OPP PTS  OPP FG%  OPP FBPS  \\\n",
       "Payton ON   109.9  12.0   11.5        23.8     98.4      0.4       8.0   \n",
       "Payton OFF  112.2   6.7    3.5        14.7    108.7      0.4      12.5   \n",
       "\n",
       "            OPP PITP  \n",
       "Payton ON       35.8  \n",
       "Payton OFF      41.6  "
      ]
     },
     "execution_count": 8,
     "metadata": {},
     "output_type": "execute_result"
    }
   ],
   "source": [
    "payton = lineups[lineups.LINEUPS.str.contains(\"Payton\")]\n",
    "no_payton = lineups[~lineups.LINEUPS.str.contains(\"Payton\")]\n",
    "\n",
    "payton_on_off = pd.concat([48 * pd.DataFrame(payton.sum()).transpose().iloc[:, 1:] / payton.MIN.sum(),\n",
    "                           48 * pd.DataFrame(no_payton.sum()).transpose().iloc[:, 1:] / no_payton.MIN.sum()])\n",
    "\n",
    "payton_on_off.index = [\"Payton ON\", \"Payton OFF\"]\n",
    "payton_on_off['OPP FG%'] = payton_on_off['OPP FGM'] / payton_on_off['OPP FGA']\n",
    "\n",
    "payton_on_off = payton_on_off[['PTS', 'STL', '+/-_x', 'PTS OFF TO', \n",
    "                               'OPP PTS', 'OPP FG%', 'OPP FBPS', 'OPP PITP']]\n",
    "payton_on_off = payton_on_off.apply(pd.to_numeric).round(1)\n",
    "\n",
    "payton_on_off#.to_csv(\"payton.csv\")"
   ]
  },
  {
   "cell_type": "code",
   "execution_count": 6,
   "metadata": {},
   "outputs": [],
   "source": [
    "looney = lineups[lineups.LINEUPS.str.contains(\"Looney\")]\n",
    "no_looney = lineups[~lineups.LINEUPS.str.contains(\"Looney\")]\n",
    "\n",
    "looney_on_off = pd.concat([48 * pd.DataFrame(looney.sum()).transpose().iloc[:, 1:] / looney.MIN.sum(),\n",
    "                           48 * pd.DataFrame(no_looney.sum()).transpose().iloc[:, 1:] / no_looney.MIN.sum()])\n",
    "\n",
    "looney_on_off.index = [\"Looney ON\", \"Looney OFF\"]\n",
    "looney_on_off['OPP FG%'] = looney_on_off['OPP FGM'] / looney_on_off['OPP FGA']\n",
    "\n",
    "looney_on_off = looney_on_off[['PTS', 'REB', 'OREB', 'DREB', 'REB DIFF', \n",
    "                               '2ND PTS', 'OPP 2ND PTS', '+/-_x', 'PTS OFF TO', \n",
    "                               'OPP PTS', 'OPP FG%', 'OPP FBPS', 'OPP PITP']]\n",
    "looney_on_off = looney_on_off.apply(pd.to_numeric).round(1)\n",
    "\n",
    "looney_on_off#.to_csv(\"looney.csv\")"
   ]
  },
  {
   "cell_type": "code",
   "execution_count": null,
   "metadata": {},
   "outputs": [],
   "source": []
  }
 ],
 "metadata": {
  "kernelspec": {
   "display_name": "Python 3",
   "language": "python",
   "name": "python3"
  },
  "language_info": {
   "codemirror_mode": {
    "name": "ipython",
    "version": 3
   },
   "file_extension": ".py",
   "mimetype": "text/x-python",
   "name": "python",
   "nbconvert_exporter": "python",
   "pygments_lexer": "ipython3",
   "version": "3.7.7"
  }
 },
 "nbformat": 4,
 "nbformat_minor": 4
}
